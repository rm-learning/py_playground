{
 "cells": [
  {
   "cell_type": "markdown",
   "metadata": {},
   "source": [
    "### **Passing and Returning Functions**"
   ]
  },
  {
   "cell_type": "code",
   "execution_count": 1,
   "metadata": {},
   "outputs": [],
   "source": [
    "def add(a, b):\n",
    "    return a + b\n",
    "\n",
    "def greet(name):\n",
    "    return f'Hello,  {name}!'\n",
    "\n",
    "def apply(func, *args): # Neste exemplo, estamos delimitando uma função como parâmetro\n",
    "    result = func(*args)\n",
    "    return result"
   ]
  },
  {
   "cell_type": "code",
   "execution_count": 2,
   "metadata": {},
   "outputs": [
    {
     "data": {
      "text/plain": [
       "5"
      ]
     },
     "execution_count": 2,
     "metadata": {},
     "output_type": "execute_result"
    }
   ],
   "source": [
    "apply(add, 2, 3) # Aqui se exemplifica como a função pode ser usada como argumento"
   ]
  },
  {
   "cell_type": "markdown",
   "metadata": {},
   "source": [
    "###### **Exemplo 2**"
   ]
  },
  {
   "cell_type": "code",
   "execution_count": 3,
   "metadata": {},
   "outputs": [],
   "source": [
    "def mult(a, b):\n",
    "    return a * b\n",
    "\n",
    "def power(a, n):\n",
    "    return a ** n\n",
    "\n",
    "def choose_operator(name): # Retornando uma função\n",
    "    if name == 'add':\n",
    "        return add\n",
    "    if name == 'mult':\n",
    "        return mult\n",
    "    if name == 'power':\n",
    "        return power"
   ]
  },
  {
   "cell_type": "code",
   "execution_count": 4,
   "metadata": {},
   "outputs": [
    {
     "data": {
      "text/plain": [
       "(<function __main__.power(a, n)>, 8)"
      ]
     },
     "execution_count": 4,
     "metadata": {},
     "output_type": "execute_result"
    }
   ],
   "source": [
    "op = choose_operator('power') # Chamando a função, passando uma função\n",
    "op, op(2,3) # Isso nos permite descobrir com maior agilidade, em que lugar \n",
    "# problemas podem estar ocorrendo na hora de debugar o código"
   ]
  },
  {
   "cell_type": "markdown",
   "metadata": {},
   "source": [
    "### **Builtin Function: Map()**"
   ]
  },
  {
   "cell_type": "code",
   "execution_count": 5,
   "metadata": {},
   "outputs": [],
   "source": [
    "data = ['a', 'ab', 'abc', 'abcd']"
   ]
  },
  {
   "cell_type": "code",
   "execution_count": 9,
   "metadata": {},
   "outputs": [
    {
     "data": {
      "text/plain": [
       "(<map at 0x20f85761c60>, [1, 2, 3, 4], [])"
      ]
     },
     "execution_count": 9,
     "metadata": {},
     "output_type": "execute_result"
    }
   ],
   "source": [
    "lengths = map(len, data) # Lembrar que map é um ITERATOR !!!\n",
    "lengths, list(lengths), list(lengths)"
   ]
  },
  {
   "cell_type": "markdown",
   "metadata": {},
   "source": [
    "### **Closures**"
   ]
  },
  {
   "cell_type": "code",
   "execution_count": 10,
   "metadata": {},
   "outputs": [],
   "source": [
    "def outer(a, b):\n",
    "    sum_ = a + b # O underscore está sendo usado para não sobrescrever a função nativa\n",
    "\n",
    "    def inner():\n",
    "        prod = a * b # Está pegando implicitamente os dados recebidos nos argumentos externos\n",
    "        print(a, b, sum_, prod)\n",
    "        return \"You just called a closure!\"\n",
    "    \n",
    "    return inner"
   ]
  },
  {
   "cell_type": "code",
   "execution_count": 13,
   "metadata": {},
   "outputs": [
    {
     "data": {
      "text/plain": [
       "(<function __main__.outer.<locals>.inner()>,\n",
       " (<cell at 0x0000020F857621A0: int object at 0x00007FFC44E939D8>,\n",
       "  <cell at 0x0000020F85761E10: int object at 0x00007FFC44E939F8>,\n",
       "  <cell at 0x0000020F85762920: int object at 0x00007FFC44E93A38>))"
      ]
     },
     "execution_count": 13,
     "metadata": {},
     "output_type": "execute_result"
    }
   ],
   "source": [
    "func = outer(2, 3) # Atribuindo a função a uma variável\n",
    "func, func.__closure__ # É possível ver que se trata de um closure capturando 3 variáveis"
   ]
  },
  {
   "cell_type": "code",
   "execution_count": 14,
   "metadata": {},
   "outputs": [
    {
     "name": "stdout",
     "output_type": "stream",
     "text": [
      "2 3 5 6\n"
     ]
    },
    {
     "data": {
      "text/plain": [
       "'You just called a closure!'"
      ]
     },
     "execution_count": 14,
     "metadata": {},
     "output_type": "execute_result"
    }
   ],
   "source": [
    "func() # Realizando a chamada de fato"
   ]
  },
  {
   "cell_type": "markdown",
   "metadata": {},
   "source": [
    "###### **Exemplo 2**"
   ]
  },
  {
   "cell_type": "code",
   "execution_count": 16,
   "metadata": {},
   "outputs": [],
   "source": [
    "def power(n):\n",
    "    def inner(x):\n",
    "        return x ** n\n",
    "    return inner"
   ]
  },
  {
   "cell_type": "code",
   "execution_count": 19,
   "metadata": {},
   "outputs": [],
   "source": [
    "square = power(2) # Nesse caso o closure se lembrará conforme a variável\n",
    "cubes = power(3) # 2 e 3 estarão sendo lembrados como 'n'"
   ]
  },
  {
   "cell_type": "code",
   "execution_count": 20,
   "metadata": {},
   "outputs": [
    {
     "data": {
      "text/plain": [
       "(100, 1000)"
      ]
     },
     "execution_count": 20,
     "metadata": {},
     "output_type": "execute_result"
    }
   ],
   "source": [
    "square(10), cubes(10) # 10, nos dois casos, estará sendo interpretado como 'x'"
   ]
  }
 ],
 "metadata": {
  "kernelspec": {
   "display_name": "tempnumpy",
   "language": "python",
   "name": "python3"
  },
  "language_info": {
   "codemirror_mode": {
    "name": "ipython",
    "version": 3
   },
   "file_extension": ".py",
   "mimetype": "text/x-python",
   "name": "python",
   "nbconvert_exporter": "python",
   "pygments_lexer": "ipython3",
   "version": "3.12.1"
  }
 },
 "nbformat": 4,
 "nbformat_minor": 2
}
